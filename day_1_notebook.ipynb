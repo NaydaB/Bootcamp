{
 "cells": [
  {
   "cell_type": "code",
   "execution_count": 1,
   "metadata": {},
   "outputs": [
    {
     "name": "stdout",
     "output_type": "stream",
     "text": [
      "hello\n"
     ]
    }
   ],
   "source": [
    "print(\"hello\")\n"
   ]
  },
  {
   "cell_type": "code",
   "execution_count": 2,
   "metadata": {},
   "outputs": [],
   "source": [
    "numbers_elsewhwew_Are_fine_1=True"
   ]
  },
  {
   "cell_type": "code",
   "execution_count": 3,
   "metadata": {},
   "outputs": [],
   "source": [
    "only_letters_4nd_Numbers_and_underscores_allowed=True"
   ]
  },
  {
   "cell_type": "code",
   "execution_count": 4,
   "metadata": {},
   "outputs": [
    {
     "name": "stdout",
     "output_type": "stream",
     "text": [
      "True\n",
      "False\n"
     ]
    }
   ],
   "source": [
    "#variables are case sensitive\n",
    "var=True\n",
    "Var=False\n",
    "print(var)\n",
    "print(Var)"
   ]
  },
  {
   "cell_type": "code",
   "execution_count": 10,
   "metadata": {},
   "outputs": [
    {
     "ename": "SyntaxError",
     "evalue": "expected ':' (3499441505.py, line 5)",
     "output_type": "error",
     "traceback": [
      "\u001b[0;36m  Cell \u001b[0;32mIn[10], line 5\u001b[0;36m\u001b[0m\n\u001b[0;31m    elif bootcamp and not CP_binney\u001b[0m\n\u001b[0m                                   ^\u001b[0m\n\u001b[0;31mSyntaxError\u001b[0m\u001b[0;31m:\u001b[0m expected ':'\n"
     ]
    }
   ],
   "source": [
    "#we can add extra conditions to if/else\n",
    "CP_binney=False\n",
    "if bootcampl and CP_binney:\n",
    "    print (hello+ \"and welcome to the CP Bootcamp at 300 Binney!\")\n",
    "elif bootcamp and not CP_binney\n",
    "    print (hello+ \" and welcome \")\n",
    "elif wjatever_else\n",
    "if another_condition\n",
    "#ad infinitum\n",
    "else:\n",
    "    print (hello+\"world\")\n",
    "\n",
    " "
   ]
  },
  {
   "cell_type": "code",
   "execution_count": 18,
   "metadata": {},
   "outputs": [
    {
     "ename": "IndentationError",
     "evalue": "expected an indented block after 'for' statement on line 3 (1932606040.py, line 4)",
     "output_type": "error",
     "traceback": [
      "\u001b[0;36m  Cell \u001b[0;32mIn[18], line 4\u001b[0;36m\u001b[0m\n\u001b[0;31m    print (hello + 'and welcome to CP bootcamp at \"+locations\"')\u001b[0m\n\u001b[0m    ^\u001b[0m\n\u001b[0;31mIndentationError\u001b[0m\u001b[0;31m:\u001b[0m expected an indented block after 'for' statement on line 3\n"
     ]
    }
   ],
   "source": [
    "#lets look at loops\n",
    "locations = (\"300 Biney\", \"415 main\")\n",
    "for location in locations:\n",
    "print (hello + 'and welcome to CP bootcamp at \"+locations\"')"
   ]
  },
  {
   "cell_type": "code",
   "execution_count": 15,
   "metadata": {},
   "outputs": [
    {
     "ename": "NameError",
     "evalue": "name 'greeter' is not defined",
     "output_type": "error",
     "traceback": [
      "\u001b[0;31m---------------------------------------------------------------------------\u001b[0m",
      "\u001b[0;31mNameError\u001b[0m                                 Traceback (most recent call last)",
      "Cell \u001b[0;32mIn[15], line 4\u001b[0m\n\u001b[1;32m      2\u001b[0m \u001b[38;5;28;01mdef\u001b[39;00m\u001b[38;5;250m \u001b[39m\u001b[38;5;21msay_hello\u001b[39m (greetee, greeter \u001b[38;5;241m=\u001b[39m\u001b[38;5;28;01mNone\u001b[39;00m):\n\u001b[1;32m      3\u001b[0m     greeting \u001b[38;5;241m=\u001b[39m \u001b[38;5;124m\"\u001b[39m\u001b[38;5;124mhello\u001b[39m\u001b[38;5;124m\"\u001b[39m\u001b[38;5;241m+\u001b[39mgreetee\n\u001b[0;32m----> 4\u001b[0m \u001b[38;5;28;01mif\u001b[39;00m \u001b[43mgreeter\u001b[49m:\n\u001b[1;32m      5\u001b[0m     greeting\u001b[38;5;241m+\u001b[39m\u001b[38;5;241m=\u001b[39m \u001b[38;5;124m'\u001b[39m\u001b[38;5;124mfrom\u001b[39m\u001b[38;5;124m'\u001b[39m\u001b[38;5;241m+\u001b[39mgreeter\n\u001b[1;32m      6\u001b[0m \u001b[38;5;28mprint\u001b[39m (greeting)\n",
      "\u001b[0;31mNameError\u001b[0m: name 'greeter' is not defined"
     ]
    }
   ],
   "source": [
    "#first function\n",
    "def say_hello (greetee, greeter =None):\n",
    "    greeting = \"hello\"+greetee\n",
    "if greeter:\n",
    "    greeting+= 'from'+greeter\n",
    "print (greeting)\n",
    "\n"
   ]
  },
  {
   "cell_type": "code",
   "execution_count": 17,
   "metadata": {},
   "outputs": [
    {
     "name": "stdout",
     "output_type": "stream",
     "text": [
      "current tally: 0\n",
      "next tally increment 1\n",
      "current tally: 1\n",
      "next tally increment 0\n",
      "current tally: 1\n",
      "next tally increment 5\n",
      "current tally: 6\n",
      "next tally increment 2\n",
      "current tally: 8\n",
      "next tally increment 0\n",
      "current tally: 8\n",
      "next tally increment 5\n",
      "current tally: 13\n",
      "next tally increment 4\n",
      "current tally: 17\n",
      "next tally increment 3\n",
      "current tally: 20\n",
      "next tally increment 5\n",
      "current tally: 25\n",
      "next tally increment 0\n",
      "current tally: 25\n",
      "next tally increment 2\n",
      "current tally: 27\n",
      "next tally increment 1\n",
      "current tally: 28\n",
      "next tally increment 0\n",
      "current tally: 28\n",
      "next tally increment 3\n",
      "current tally: 31\n",
      "next tally increment 3\n",
      "current tally: 34\n",
      "next tally increment 0\n",
      "current tally: 34\n",
      "next tally increment 2\n",
      "current tally: 36\n",
      "next tally increment 1\n",
      "current tally: 37\n",
      "next tally increment 2\n",
      "current tally: 39\n",
      "next tally increment 5\n",
      "current tally: 44\n",
      "next tally increment 0\n",
      "current tally: 44\n",
      "next tally increment 0\n",
      "current tally: 44\n",
      "next tally increment 0\n",
      "current tally: 44\n",
      "next tally increment 5\n",
      "current tally: 49\n",
      "next tally increment 3\n",
      "final tally: 52\n"
     ]
    }
   ],
   "source": [
    "#\"while\" loops allow for additional flexiblity by looping until a condition is met\n",
    "import random\n",
    "tally = 0\n",
    "while tally <50:\n",
    "    print ('current tally:' , tally)\n",
    "    increment = random.randint (0,5)\n",
    "    print(\"next tally increment\" , increment)\n",
    "    tally +=increment\n",
    "\n",
    "print (\"final tally:\", tally)"
   ]
  },
  {
   "cell_type": "code",
   "execution_count": 16,
   "metadata": {},
   "outputs": [
    {
     "name": "stdout",
     "output_type": "stream",
     "text": [
      "0.2\n"
     ]
    }
   ],
   "source": [
    "a=1\n",
    "a/=5\n",
    "print(a)"
   ]
  },
  {
   "cell_type": "code",
   "execution_count": null,
   "metadata": {},
   "outputs": [],
   "source": [
    "#Numerical datatypes and otehr packages \n",
    "#datatypes\n",
    "#numbers \n"
   ]
  },
  {
   "cell_type": "markdown",
   "metadata": {},
   "source": []
  },
  {
   "cell_type": "markdown",
   "metadata": {},
   "source": [
    "#Numerical dataypes and other packages\n"
   ]
  },
  {
   "cell_type": "code",
   "execution_count": 19,
   "metadata": {},
   "outputs": [
    {
     "name": "stdout",
     "output_type": "stream",
     "text": [
      "this is a  <class 'int'> with value 5\n",
      "tjis is a <class 'float'> with value 5.0\n"
     ]
    }
   ],
   "source": [
    "my_int=5\n",
    "my_float = 5.0\n",
    "print ('this is a ', type (my_int), \"with value\", my_int)\n",
    "print (\"tjis is a\", type (my_float), \"with value\", my_float)"
   ]
  },
  {
   "cell_type": "code",
   "execution_count": 20,
   "metadata": {},
   "outputs": [
    {
     "name": "stdout",
     "output_type": "stream",
     "text": [
      "2\n",
      "4\n",
      "4\n",
      "100\n",
      "0.01\n"
     ]
    }
   ],
   "source": [
    "print (1+1)\n",
    "print (2*2)\n",
    "print (2*(5-3))\n",
    "#exponnentiation uses two asterisks \n",
    "print (10**2)\n",
    "print (10**-2)\n"
   ]
  },
  {
   "cell_type": "code",
   "execution_count": 22,
   "metadata": {},
   "outputs": [
    {
     "name": "stdout",
     "output_type": "stream",
     "text": [
      "False\n",
      "True\n"
     ]
    }
   ],
   "source": [
    "#warning: be careful when checking wquality with floaterd\n",
    "#do not do this\n",
    "print (0.1+0.2==0.3)\n",
    "print (0.1+0.3==0.2+0.2)\n",
    "#== tets equation"
   ]
  },
  {
   "cell_type": "code",
   "execution_count": 23,
   "metadata": {},
   "outputs": [
    {
     "data": {
      "text/plain": [
       "5.551115123125783e-17"
      ]
     },
     "execution_count": 23,
     "metadata": {},
     "output_type": "execute_result"
    }
   ],
   "source": [
    "0.1+0.2-0.3"
   ]
  },
  {
   "cell_type": "code",
   "execution_count": 24,
   "metadata": {},
   "outputs": [
    {
     "name": "stdout",
     "output_type": "stream",
     "text": [
      "False\n",
      "True\n"
     ]
    }
   ],
   "source": [
    "#for safety, specify a tolerance \n",
    "tol = 1088-10\n",
    "print(0.1+0.2-0.3==0)\n",
    "print(0.1+0.2-0.3<tol)"
   ]
  },
  {
   "cell_type": "code",
   "execution_count": 25,
   "metadata": {},
   "outputs": [
    {
     "name": "stdout",
     "output_type": "stream",
     "text": [
      "this is a string\n"
     ]
    }
   ],
   "source": [
    "#strings\n",
    "print('this is a string')"
   ]
  },
  {
   "cell_type": "code",
   "execution_count": 26,
   "metadata": {},
   "outputs": [],
   "source": [
    "s='this is a strin for slicing'"
   ]
  },
  {
   "cell_type": "code",
   "execution_count": 28,
   "metadata": {},
   "outputs": [
    {
     "name": "stdout",
     "output_type": "stream",
     "text": [
      "i\n"
     ]
    }
   ],
   "source": [
    "print (s[5])\n"
   ]
  },
  {
   "cell_type": "code",
   "execution_count": 29,
   "metadata": {},
   "outputs": [
    {
     "name": "stdout",
     "output_type": "stream",
     "text": [
      "['a', 1, 0, 3, None, ['a', 'b']]\n"
     ]
    }
   ],
   "source": [
    "#lists \n",
    "#lists can contain any type of data in any combination \n",
    "l=['a', 1,0,3, None, ['a', 'b']]\n",
    "print (l)"
   ]
  },
  {
   "cell_type": "code",
   "execution_count": 31,
   "metadata": {},
   "outputs": [
    {
     "name": "stdout",
     "output_type": "stream",
     "text": [
      "[0, 1, 2, 3, 4, 5, 6, 7, 8, 9, 10, 11, 12, 13, 14, 15, 16, 17, 18, 19, 20, 21, 22, 23, 24, 25, 26, 27, 28, 29, 30, 31, 32, 33, 34, 35, 36, 37, 38, 39, 40, 41, 42, 43, 44, 45, 46, 47, 48, 49]\n"
     ]
    }
   ],
   "source": [
    "#python indexing is flexible \n",
    "nums= list (range(50))\n",
    "print (nums)"
   ]
  },
  {
   "cell_type": "code",
   "execution_count": 32,
   "metadata": {},
   "outputs": [
    {
     "name": "stdout",
     "output_type": "stream",
     "text": [
      "49\n"
     ]
    }
   ],
   "source": [
    "print (nums [-1])"
   ]
  },
  {
   "cell_type": "code",
   "execution_count": 35,
   "metadata": {},
   "outputs": [
    {
     "name": "stdout",
     "output_type": "stream",
     "text": [
      "[5, 6, 7, 8, 9]\n"
     ]
    }
   ],
   "source": [
    "print (nums[5:10])"
   ]
  },
  {
   "cell_type": "code",
   "execution_count": null,
   "metadata": {},
   "outputs": [
    {
     "name": "stdout",
     "output_type": "stream",
     "text": [
      "[49, 48, 47, 46, 45, 44, 43, 42, 41, 40, 39, 38, 37, 36, 35, 34, 33, 32, 31, 30, 29, 28, 27, 26, 25, 24, 23, 22, 21, 20, 19, 18, 17, 16, 15, 14, 13, 12, 11, 10, 9, 8, 7, 6, 5, 4, 3, 2, 1, 0]\n"
     ]
    }
   ],
   "source": [
    "print (nums [::-1])\n",
    "#to read the list the opposite direction"
   ]
  },
  {
   "cell_type": "code",
   "execution_count": 41,
   "metadata": {},
   "outputs": [
    {
     "name": "stdout",
     "output_type": "stream",
     "text": [
      "[[4, 5, 6], [7, 8, 9], [10, 11, 12]]\n"
     ]
    }
   ],
   "source": [
    "#list nest in the obvious way\n",
    "nested_list=[[1,2,3],[4,5,6],[7,8,9],[10,11,12],[13,14,15]]\n",
    "print (nested_list[1:4])\n"
   ]
  },
  {
   "cell_type": "code",
   "execution_count": 42,
   "metadata": {},
   "outputs": [
    {
     "name": "stdout",
     "output_type": "stream",
     "text": [
      "[10, 11, 12]\n"
     ]
    }
   ],
   "source": [
    "print(nested_list[3])"
   ]
  },
  {
   "cell_type": "code",
   "execution_count": 43,
   "metadata": {},
   "outputs": [
    {
     "name": "stdout",
     "output_type": "stream",
     "text": [
      "[0, 2, 4, 6, 8, 10, 12, 14, 16, 18]\n"
     ]
    }
   ],
   "source": [
    "print([i for i in range (20) if (i%2==0)])"
   ]
  },
  {
   "cell_type": "code",
   "execution_count": null,
   "metadata": {},
   "outputs": [
    {
     "ename": "SyntaxError",
     "evalue": "invalid syntax (1304350443.py, line 1)",
     "output_type": "error",
     "traceback": [
      "\u001b[0;36m  Cell \u001b[0;32mIn[44], line 1\u001b[0;36m\u001b[0m\n\u001b[0;31m    print([i for i if (i2%==0)else -i for i in range (20)])\u001b[0m\n\u001b[0m                   ^\u001b[0m\n\u001b[0;31mSyntaxError\u001b[0m\u001b[0;31m:\u001b[0m invalid syntax\n"
     ]
    }
   ],
   "source": [
    "print([i for i if (i 2%==0)else -i for i in range (20)])"
   ]
  },
  {
   "cell_type": "code",
   "execution_count": 45,
   "metadata": {},
   "outputs": [
    {
     "name": "stdout",
     "output_type": "stream",
     "text": [
      "[[1, 2, 3], [4, 5, 6], [7, 8, 9], [10, 11, 12], [13, 14, 15]]\n",
      "[[1, 2, 3], [4, 5, 6], [7, 8, 9], [10, 11, 12], 'oops']\n"
     ]
    }
   ],
   "source": [
    "print (nested_list)\n",
    "nested_list [-1] = 'oops'\n",
    "print (nested_list)"
   ]
  },
  {
   "cell_type": "code",
   "execution_count": 46,
   "metadata": {},
   "outputs": [
    {
     "name": "stdout",
     "output_type": "stream",
     "text": [
      "[[0, 1], [2, 3], [4, 5], [6, 7], [8, 9], [10, 11], [12, 13], [14, 15], [16, 17], [18, 19]]\n"
     ]
    }
   ],
   "source": [
    "#be careful when dealing with list elements\n",
    "new_test_list = [[i, i+1] for i in range (20) if (i%2==0)]\n",
    "print (new_test_list)\n"
   ]
  },
  {
   "cell_type": "code",
   "execution_count": 47,
   "metadata": {},
   "outputs": [
    {
     "name": "stdout",
     "output_type": "stream",
     "text": [
      "[[0, 1], [2, 3], [4, 5], [6, 7], [8, 9], ['oops', 11], [12, 13], [14, 15], [16, 17], [18, 19]]\n"
     ]
    }
   ],
   "source": [
    "test_element = new_test_list [5]\n",
    "test_element[0] = 'oops'\n",
    "print(new_test_list)\n"
   ]
  },
  {
   "cell_type": "code",
   "execution_count": 48,
   "metadata": {},
   "outputs": [
    {
     "name": "stdout",
     "output_type": "stream",
     "text": [
      "[[0, 1], [2, 3], [4, 5], [6, 7], [8, 9], ['oops', 11], [12, 13], [14, 15], [16, 17], [18, 19]]\n"
     ]
    }
   ],
   "source": [
    "test_element_2 = [x for x in new_test_list[5]]\n",
    "test_element_2[1] = 'oops'\n",
    "print (new_test_list)"
   ]
  },
  {
   "cell_type": "code",
   "execution_count": null,
   "metadata": {},
   "outputs": [
    {
     "ename": "TypeError",
     "evalue": "type 'range' is not subscriptable",
     "output_type": "error",
     "traceback": [
      "\u001b[0;31m---------------------------------------------------------------------------\u001b[0m",
      "\u001b[0;31mTypeError\u001b[0m                                 Traceback (most recent call last)",
      "Cell \u001b[0;32mIn[50], line 2\u001b[0m\n\u001b[1;32m      1\u001b[0m \u001b[38;5;66;03m#tuple afre like lists but immutible \u001b[39;00m\n\u001b[0;32m----> 2\u001b[0m test_tuple \u001b[38;5;241m=\u001b[39m \u001b[38;5;28mtuple\u001b[39m (\u001b[38;5;28;43mrange\u001b[39;49m\u001b[43m[\u001b[49m\u001b[38;5;241;43m5\u001b[39;49m\u001b[43m]\u001b[49m)\n\u001b[1;32m      3\u001b[0m \u001b[38;5;28mprint\u001b[39m (test_tuple)\n\u001b[1;32m      4\u001b[0m test_tuple[\u001b[38;5;241m2\u001b[39m] \u001b[38;5;241m=\u001b[39m \u001b[38;5;241m-\u001b[39m\u001b[38;5;241m1\u001b[39m\n",
      "\u001b[0;31mTypeError\u001b[0m: type 'range' is not subscriptable"
     ]
    }
   ],
   "source": [
    "#tuple are like lists but immutible \n",
    "test_tuple = tuple (range[5])\n",
    "print (test_tuple)\n",
    "test_tuple[2] = -1\n"
   ]
  },
  {
   "cell_type": "code",
   "execution_count": 51,
   "metadata": {},
   "outputs": [
    {
     "name": "stdout",
     "output_type": "stream",
     "text": [
      "(0, 10, 2)\n"
     ]
    }
   ],
   "source": [
    "#useful for indexing and function argument\n",
    "function_args = (0,10,2)\n",
    "print (function_args)\n"
   ]
  },
  {
   "cell_type": "code",
   "execution_count": 52,
   "metadata": {},
   "outputs": [
    {
     "name": "stdout",
     "output_type": "stream",
     "text": [
      "[0, 2, 4, 6, 8]\n"
     ]
    }
   ],
   "source": [
    "#tuples can be \"unrolled\" with the star operator \n",
    "print (list (range (*function_args)))\n"
   ]
  },
  {
   "cell_type": "code",
   "execution_count": null,
   "metadata": {},
   "outputs": [],
   "source": [
    "#dictionaries\n",
    "test_dict = dict ()\n",
    "test_dict ([0,0] = [ ])"
   ]
  },
  {
   "cell_type": "code",
   "execution_count": 53,
   "metadata": {},
   "outputs": [
    {
     "name": "stdout",
     "output_type": "stream",
     "text": [
      "{(0, 0): 0, (0, 1): 0, (0, 2): 0, (0, 3): 0, (1, 0): 0, (1, 1): 1, (1, 2): 2, (1, 3): 3, (2, 0): 0, (2, 1): 2, (2, 2): 4, (2, 3): 6}\n"
     ]
    }
   ],
   "source": [
    "print ({(a,b):a*b for a in range (3) for b in range (4)})"
   ]
  },
  {
   "cell_type": "markdown",
   "metadata": {},
   "source": [
    "##types associated with common packages\n"
   ]
  },
  {
   "cell_type": "code",
   "execution_count": null,
   "metadata": {},
   "outputs": [],
   "source": []
  },
  {
   "cell_type": "markdown",
   "metadata": {},
   "source": [
    "## types associated with common packages"
   ]
  },
  {
   "cell_type": "code",
   "execution_count": 54,
   "metadata": {},
   "outputs": [],
   "source": [
    "import numpy as np"
   ]
  },
  {
   "cell_type": "code",
   "execution_count": 60,
   "metadata": {},
   "outputs": [
    {
     "name": "stdout",
     "output_type": "stream",
     "text": [
      "[1. 1. 1. ... 1. 1. 1.]\n",
      "[   0    1    2 ... 9997 9998 9999]\n",
      "12.2 μs ± 1.24 μs per loop (mean ± std. dev. of 7 runs, 100,000 loops each)\n"
     ]
    }
   ],
   "source": [
    "array_1 = np.ones (10**4)\n",
    "print (array_1)\n",
    "array_2 = np.arange(10**4)\n",
    "print (array_2)\n",
    "%timeit array_1+1.5*array_2"
   ]
  },
  {
   "cell_type": "code",
   "execution_count": 61,
   "metadata": {},
   "outputs": [
    {
     "name": "stdout",
     "output_type": "stream",
     "text": [
      "485 μs ± 25.6 μs per loop (mean ± std. dev. of 7 runs, 1,000 loops each)\n"
     ]
    }
   ],
   "source": [
    "#lets try this with lists \n",
    "list_1 = [1]*10**4\n",
    "list_2 = list (range (10**4))\n",
    "%timeit [list_1 [i] + 1.5*list_2 [i]for i in range (10**4)]"
   ]
  }
 ],
 "metadata": {
  "kernelspec": {
   "display_name": "bootcamp",
   "language": "python",
   "name": "python3"
  },
  "language_info": {
   "codemirror_mode": {
    "name": "ipython",
    "version": 3
   },
   "file_extension": ".py",
   "mimetype": "text/x-python",
   "name": "python",
   "nbconvert_exporter": "python",
   "pygments_lexer": "ipython3",
   "version": "3.11.11"
  }
 },
 "nbformat": 4,
 "nbformat_minor": 2
}
